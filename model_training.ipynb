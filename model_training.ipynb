{
 "cells": [
  {
   "cell_type": "markdown",
   "metadata": {
    "id": "HAeiPvmbQ-12"
   },
   "source": [
    "# Installing libraries for colab"
   ]
  },
  {
   "cell_type": "code",
   "execution_count": null,
   "metadata": {
    "colab": {
     "base_uri": "https://localhost:8080/"
    },
    "id": "nRXrfsOKprtd",
    "outputId": "523501f3-f7e1-41db-947f-fe665a8e2ff8",
    "scrolled": true
   },
   "outputs": [],
   "source": [
    "# Download the python packages, note that we use other packages that you might also need to install if you run\n",
    "# this notebook on your machine. If you run it on colab, these are the only packages that need to be pip installed\n",
    "!pip install yfinance --upgrade --no-cache-dir\n",
    "!pip install ta\n",
    "!pip install datasets"
   ]
  },
  {
   "cell_type": "markdown",
   "metadata": {
    "id": "4DMMgFMAbpYy"
   },
   "source": [
    "# Downloading and setting up the data"
   ]
  },
  {
   "cell_type": "code",
   "execution_count": 1,
   "metadata": {
    "id": "8fOyZxnRpu19"
   },
   "outputs": [],
   "source": [
    "# yfinance is the API and ta is a technical analysis tool\n",
    "import yfinance as yf\n",
    "import ta\n",
    "import matplotlib.pyplot as plt\n",
    "import random\n",
    "\n",
    "# For data manupilation\n",
    "import json\n",
    "import pandas as pd\n",
    "import os\n",
    "from data_utils import pull_stock_data, pull_stock_indicators, cleaning_data"
   ]
  },
  {
   "cell_type": "code",
   "execution_count": 2,
   "metadata": {
    "colab": {
     "base_uri": "https://localhost:8080/"
    },
    "id": "1tqzRHqVSD5s",
    "outputId": "6b6c0500-4466-44bb-e2b9-702720fe1b06"
   },
   "outputs": [],
   "source": [
    "# Obtaining the SNP 500 companies\n",
    "stock_dfs = {}\n",
    "all_tickers = pd.read_html('https://en.wikipedia.org/wiki/List_of_S%26P_500_companies')[0]\n",
    "all_stocks = all_tickers.Symbol.to_list()\n",
    "\n",
    "# Obtaining most important company's stocks\n",
    "# These are subdivided into categories\n",
    "tech = ['MSFT','AAPL','NVDA', 'GOOGL', 'GOOG', 'AMZN', 'META', 'AVGO', 'TSLA','ORCL','CRM','NFLX','AMD','QCOM','ADBE','ASML','ADI','DELL']\n",
    "pharma = ['LLY',\"JNJ\",'MRK','ABBV','TMO','MRK','MRNA','PFE',\"CVS\"]\n",
    "finance = ['BRK-B','JPM','V','MA','BAC','WFC', 'ACN', 'MS','BLK','GS',\"PYPL\"]\n",
    "defense = ['BA','LMT','RTX','GE','NOC']\n",
    "energy = ['XOM','CVX','LIN','SBGSY']\n",
    "retail = ['WMT', \"UNH\", \"PG\", 'COST', 'HD','KO','PEP','MCD','LVMUY', 'NSRGY','TM', 'LRLCY', 'GM', 'BAB','NKE',\"T\",'F']\n",
    "\n",
    "all_stocks = tech+pharma+finance+defense+energy+retail"
   ]
  },
  {
   "cell_type": "code",
   "execution_count": 3,
   "metadata": {
    "colab": {
     "base_uri": "https://localhost:8080/"
    },
    "id": "78sGmzrkvtV-",
    "outputId": "ecb4ff13-2834-4bac-aa41-522f3c52f4da",
    "scrolled": true
   },
   "outputs": [
    {
     "name": "stderr",
     "output_type": "stream",
     "text": [
      "[*********************100%%**********************]  1 of 1 completed\n",
      "[*********************100%%**********************]  1 of 1 completed\n",
      "[*********************100%%**********************]  1 of 1 completed\n",
      "[*********************100%%**********************]  1 of 1 completed\n",
      "[*********************100%%**********************]  1 of 1 completed\n",
      "[*********************100%%**********************]  1 of 1 completed\n",
      "[*********************100%%**********************]  1 of 1 completed\n",
      "[*********************100%%**********************]  1 of 1 completed\n",
      "[*********************100%%**********************]  1 of 1 completed\n",
      "[*********************100%%**********************]  1 of 1 completed\n",
      "[*********************100%%**********************]  1 of 1 completed\n",
      "[*********************100%%**********************]  1 of 1 completed\n",
      "[*********************100%%**********************]  1 of 1 completed\n",
      "[*********************100%%**********************]  1 of 1 completed\n",
      "[*********************100%%**********************]  1 of 1 completed\n",
      "[*********************100%%**********************]  1 of 1 completed\n",
      "[*********************100%%**********************]  1 of 1 completed\n",
      "[*********************100%%**********************]  1 of 1 completed\n",
      "[*********************100%%**********************]  1 of 1 completed\n",
      "[*********************100%%**********************]  1 of 1 completed\n",
      "[*********************100%%**********************]  1 of 1 completed\n",
      "[*********************100%%**********************]  1 of 1 completed\n",
      "[*********************100%%**********************]  1 of 1 completed\n",
      "[*********************100%%**********************]  1 of 1 completed\n",
      "[*********************100%%**********************]  1 of 1 completed\n",
      "[*********************100%%**********************]  1 of 1 completed\n",
      "[*********************100%%**********************]  1 of 1 completed\n",
      "[*********************100%%**********************]  1 of 1 completed\n",
      "[*********************100%%**********************]  1 of 1 completed\n",
      "[*********************100%%**********************]  1 of 1 completed\n",
      "[*********************100%%**********************]  1 of 1 completed\n",
      "[*********************100%%**********************]  1 of 1 completed\n",
      "[*********************100%%**********************]  1 of 1 completed\n",
      "[*********************100%%**********************]  1 of 1 completed\n",
      "[*********************100%%**********************]  1 of 1 completed\n",
      "[*********************100%%**********************]  1 of 1 completed\n",
      "[*********************100%%**********************]  1 of 1 completed\n",
      "[*********************100%%**********************]  1 of 1 completed\n",
      "[*********************100%%**********************]  1 of 1 completed\n",
      "[*********************100%%**********************]  1 of 1 completed\n",
      "[*********************100%%**********************]  1 of 1 completed\n",
      "[*********************100%%**********************]  1 of 1 completed\n",
      "[*********************100%%**********************]  1 of 1 completed\n",
      "[*********************100%%**********************]  1 of 1 completed\n",
      "[*********************100%%**********************]  1 of 1 completed\n",
      "[*********************100%%**********************]  1 of 1 completed\n",
      "[*********************100%%**********************]  1 of 1 completed\n",
      "[*********************100%%**********************]  1 of 1 completed\n",
      "[*********************100%%**********************]  1 of 1 completed\n",
      "[*********************100%%**********************]  1 of 1 completed\n",
      "[*********************100%%**********************]  1 of 1 completed\n",
      "[*********************100%%**********************]  1 of 1 completed\n",
      "[*********************100%%**********************]  1 of 1 completed\n",
      "[*********************100%%**********************]  1 of 1 completed\n",
      "[*********************100%%**********************]  1 of 1 completed\n",
      "[*********************100%%**********************]  1 of 1 completed\n",
      "[*********************100%%**********************]  1 of 1 completed\n",
      "[*********************100%%**********************]  1 of 1 completed\n",
      "[*********************100%%**********************]  1 of 1 completed\n",
      "[*********************100%%**********************]  1 of 1 completed\n",
      "[*********************100%%**********************]  1 of 1 completed\n",
      "[*********************100%%**********************]  1 of 1 completed\n",
      "[*********************100%%**********************]  1 of 1 completed\n",
      "[*********************100%%**********************]  1 of 1 completed\n"
     ]
    }
   ],
   "source": [
    "# Calling the functions to import the stock data -> to see functions go to data_utils.py file\n",
    "full_stock_data = pull_stock_data(all_stocks, '2022-06-01', '2024-05-01', '1h')\n",
    "full_stock_data = pull_stock_indicators(full_stock_data)\n",
    "full_stock_data = cleaning_data(full_stock_data)"
   ]
  },
  {
   "cell_type": "code",
   "execution_count": 4,
   "metadata": {
    "colab": {
     "base_uri": "https://localhost:8080/",
     "height": 995
    },
    "id": "TRcefY4i7qk5",
    "outputId": "588dc926-94f6-405a-fa22-35ed05d362fb",
    "scrolled": true
   },
   "outputs": [
    {
     "data": {
      "text/html": [
       "<div>\n",
       "<style scoped>\n",
       "    .dataframe tbody tr th:only-of-type {\n",
       "        vertical-align: middle;\n",
       "    }\n",
       "\n",
       "    .dataframe tbody tr th {\n",
       "        vertical-align: top;\n",
       "    }\n",
       "\n",
       "    .dataframe thead th {\n",
       "        text-align: right;\n",
       "    }\n",
       "</style>\n",
       "<table border=\"1\" class=\"dataframe\">\n",
       "  <thead>\n",
       "    <tr style=\"text-align: right;\">\n",
       "      <th></th>\n",
       "      <th>Open</th>\n",
       "      <th>High</th>\n",
       "      <th>Low</th>\n",
       "      <th>Close</th>\n",
       "      <th>Adj Close</th>\n",
       "      <th>Volume</th>\n",
       "      <th>SMA_20</th>\n",
       "      <th>SMA_50</th>\n",
       "      <th>%K</th>\n",
       "      <th>%D</th>\n",
       "      <th>RSI</th>\n",
       "      <th>BB_Middle</th>\n",
       "      <th>BB_Upper</th>\n",
       "      <th>BB_Lower</th>\n",
       "      <th>MACD</th>\n",
       "      <th>MACD_Signal</th>\n",
       "      <th>ATR</th>\n",
       "    </tr>\n",
       "    <tr>\n",
       "      <th>Datetime</th>\n",
       "      <th></th>\n",
       "      <th></th>\n",
       "      <th></th>\n",
       "      <th></th>\n",
       "      <th></th>\n",
       "      <th></th>\n",
       "      <th></th>\n",
       "      <th></th>\n",
       "      <th></th>\n",
       "      <th></th>\n",
       "      <th></th>\n",
       "      <th></th>\n",
       "      <th></th>\n",
       "      <th></th>\n",
       "      <th></th>\n",
       "      <th></th>\n",
       "      <th></th>\n",
       "    </tr>\n",
       "  </thead>\n",
       "  <tbody>\n",
       "    <tr>\n",
       "      <th>2022-06-10 09:30:00-04:00</th>\n",
       "      <td>140.190002</td>\n",
       "      <td>140.759995</td>\n",
       "      <td>137.460007</td>\n",
       "      <td>137.490005</td>\n",
       "      <td>137.490005</td>\n",
       "      <td>23421485</td>\n",
       "      <td>146.779439</td>\n",
       "      <td>147.263031</td>\n",
       "      <td>0.246150</td>\n",
       "      <td>0.429504</td>\n",
       "      <td>15.611410</td>\n",
       "      <td>146.779439</td>\n",
       "      <td>152.291020</td>\n",
       "      <td>141.267858</td>\n",
       "      <td>-1.466908</td>\n",
       "      <td>-0.547692</td>\n",
       "      <td>1.526065</td>\n",
       "    </tr>\n",
       "    <tr>\n",
       "      <th>2022-06-10 10:30:00-04:00</th>\n",
       "      <td>137.489899</td>\n",
       "      <td>138.539001</td>\n",
       "      <td>137.270004</td>\n",
       "      <td>137.399994</td>\n",
       "      <td>137.399994</td>\n",
       "      <td>13497913</td>\n",
       "      <td>146.285439</td>\n",
       "      <td>147.027887</td>\n",
       "      <td>1.054255</td>\n",
       "      <td>0.754015</td>\n",
       "      <td>15.499934</td>\n",
       "      <td>146.285439</td>\n",
       "      <td>153.137159</td>\n",
       "      <td>139.433719</td>\n",
       "      <td>-1.930529</td>\n",
       "      <td>-0.824260</td>\n",
       "      <td>1.507703</td>\n",
       "    </tr>\n",
       "    <tr>\n",
       "      <th>2022-06-10 11:30:00-04:00</th>\n",
       "      <td>137.410995</td>\n",
       "      <td>138.070007</td>\n",
       "      <td>137.289993</td>\n",
       "      <td>137.975006</td>\n",
       "      <td>137.975006</td>\n",
       "      <td>7736991</td>\n",
       "      <td>145.775689</td>\n",
       "      <td>146.813787</td>\n",
       "      <td>6.109205</td>\n",
       "      <td>2.469870</td>\n",
       "      <td>19.456611</td>\n",
       "      <td>145.775689</td>\n",
       "      <td>153.457423</td>\n",
       "      <td>138.093955</td>\n",
       "      <td>-2.225894</td>\n",
       "      <td>-1.104586</td>\n",
       "      <td>1.455725</td>\n",
       "    </tr>\n",
       "    <tr>\n",
       "      <th>2022-06-10 12:30:00-04:00</th>\n",
       "      <td>137.979996</td>\n",
       "      <td>138.210007</td>\n",
       "      <td>137.460007</td>\n",
       "      <td>138.089996</td>\n",
       "      <td>138.089996</td>\n",
       "      <td>6411832</td>\n",
       "      <td>145.242439</td>\n",
       "      <td>146.614387</td>\n",
       "      <td>7.321360</td>\n",
       "      <td>4.828273</td>\n",
       "      <td>20.260719</td>\n",
       "      <td>145.242439</td>\n",
       "      <td>153.483210</td>\n",
       "      <td>137.001667</td>\n",
       "      <td>-2.422766</td>\n",
       "      <td>-1.368222</td>\n",
       "      <td>1.405316</td>\n",
       "    </tr>\n",
       "    <tr>\n",
       "      <th>2022-06-10 13:30:00-04:00</th>\n",
       "      <td>138.089996</td>\n",
       "      <td>138.740005</td>\n",
       "      <td>137.729996</td>\n",
       "      <td>137.960007</td>\n",
       "      <td>137.960007</td>\n",
       "      <td>7293856</td>\n",
       "      <td>144.708189</td>\n",
       "      <td>146.406943</td>\n",
       "      <td>6.160738</td>\n",
       "      <td>6.530434</td>\n",
       "      <td>20.017429</td>\n",
       "      <td>144.708189</td>\n",
       "      <td>153.371900</td>\n",
       "      <td>136.044477</td>\n",
       "      <td>-2.559770</td>\n",
       "      <td>-1.606532</td>\n",
       "      <td>1.377080</td>\n",
       "    </tr>\n",
       "    <tr>\n",
       "      <th>...</th>\n",
       "      <td>...</td>\n",
       "      <td>...</td>\n",
       "      <td>...</td>\n",
       "      <td>...</td>\n",
       "      <td>...</td>\n",
       "      <td>...</td>\n",
       "      <td>...</td>\n",
       "      <td>...</td>\n",
       "      <td>...</td>\n",
       "      <td>...</td>\n",
       "      <td>...</td>\n",
       "      <td>...</td>\n",
       "      <td>...</td>\n",
       "      <td>...</td>\n",
       "      <td>...</td>\n",
       "      <td>...</td>\n",
       "      <td>...</td>\n",
       "    </tr>\n",
       "    <tr>\n",
       "      <th>2024-04-30 11:30:00-04:00</th>\n",
       "      <td>173.869904</td>\n",
       "      <td>174.199905</td>\n",
       "      <td>173.604996</td>\n",
       "      <td>173.836594</td>\n",
       "      <td>173.836594</td>\n",
       "      <td>3446845</td>\n",
       "      <td>172.079618</td>\n",
       "      <td>168.986474</td>\n",
       "      <td>67.932656</td>\n",
       "      <td>70.962925</td>\n",
       "      <td>64.151716</td>\n",
       "      <td>172.079618</td>\n",
       "      <td>176.451501</td>\n",
       "      <td>167.707735</td>\n",
       "      <td>1.488587</td>\n",
       "      <td>1.438002</td>\n",
       "      <td>1.206533</td>\n",
       "    </tr>\n",
       "    <tr>\n",
       "      <th>2024-04-30 12:30:00-04:00</th>\n",
       "      <td>173.839996</td>\n",
       "      <td>173.929993</td>\n",
       "      <td>173.220001</td>\n",
       "      <td>173.275299</td>\n",
       "      <td>173.275299</td>\n",
       "      <td>4148810</td>\n",
       "      <td>172.286883</td>\n",
       "      <td>169.164732</td>\n",
       "      <td>59.726591</td>\n",
       "      <td>65.335760</td>\n",
       "      <td>59.757395</td>\n",
       "      <td>172.286883</td>\n",
       "      <td>176.468678</td>\n",
       "      <td>168.105088</td>\n",
       "      <td>1.380488</td>\n",
       "      <td>1.426499</td>\n",
       "      <td>1.171066</td>\n",
       "    </tr>\n",
       "    <tr>\n",
       "      <th>2024-04-30 13:30:00-04:00</th>\n",
       "      <td>173.304993</td>\n",
       "      <td>173.879898</td>\n",
       "      <td>173.100006</td>\n",
       "      <td>173.179993</td>\n",
       "      <td>173.179993</td>\n",
       "      <td>3964263</td>\n",
       "      <td>172.449133</td>\n",
       "      <td>169.329932</td>\n",
       "      <td>58.333222</td>\n",
       "      <td>61.997490</td>\n",
       "      <td>59.018155</td>\n",
       "      <td>172.449133</td>\n",
       "      <td>176.503188</td>\n",
       "      <td>168.395077</td>\n",
       "      <td>1.272460</td>\n",
       "      <td>1.395692</td>\n",
       "      <td>1.143125</td>\n",
       "    </tr>\n",
       "    <tr>\n",
       "      <th>2024-04-30 14:30:00-04:00</th>\n",
       "      <td>173.199997</td>\n",
       "      <td>173.345001</td>\n",
       "      <td>172.559998</td>\n",
       "      <td>172.729996</td>\n",
       "      <td>172.729996</td>\n",
       "      <td>4786101</td>\n",
       "      <td>172.590633</td>\n",
       "      <td>169.483732</td>\n",
       "      <td>51.754316</td>\n",
       "      <td>56.604709</td>\n",
       "      <td>55.525482</td>\n",
       "      <td>172.590633</td>\n",
       "      <td>176.472827</td>\n",
       "      <td>168.708438</td>\n",
       "      <td>1.137425</td>\n",
       "      <td>1.344038</td>\n",
       "      <td>1.117545</td>\n",
       "    </tr>\n",
       "    <tr>\n",
       "      <th>2024-04-30 15:30:00-04:00</th>\n",
       "      <td>172.740005</td>\n",
       "      <td>172.940002</td>\n",
       "      <td>170.020004</td>\n",
       "      <td>170.089996</td>\n",
       "      <td>170.089996</td>\n",
       "      <td>11784580</td>\n",
       "      <td>172.562132</td>\n",
       "      <td>169.582232</td>\n",
       "      <td>1.164594</td>\n",
       "      <td>37.084044</td>\n",
       "      <td>40.414608</td>\n",
       "      <td>172.562132</td>\n",
       "      <td>176.508441</td>\n",
       "      <td>168.615823</td>\n",
       "      <td>0.808067</td>\n",
       "      <td>1.236844</td>\n",
       "      <td>1.246291</td>\n",
       "    </tr>\n",
       "  </tbody>\n",
       "</table>\n",
       "<p>3306 rows × 17 columns</p>\n",
       "</div>"
      ],
      "text/plain": [
       "                                 Open        High         Low       Close  \\\n",
       "Datetime                                                                    \n",
       "2022-06-10 09:30:00-04:00  140.190002  140.759995  137.460007  137.490005   \n",
       "2022-06-10 10:30:00-04:00  137.489899  138.539001  137.270004  137.399994   \n",
       "2022-06-10 11:30:00-04:00  137.410995  138.070007  137.289993  137.975006   \n",
       "2022-06-10 12:30:00-04:00  137.979996  138.210007  137.460007  138.089996   \n",
       "2022-06-10 13:30:00-04:00  138.089996  138.740005  137.729996  137.960007   \n",
       "...                               ...         ...         ...         ...   \n",
       "2024-04-30 11:30:00-04:00  173.869904  174.199905  173.604996  173.836594   \n",
       "2024-04-30 12:30:00-04:00  173.839996  173.929993  173.220001  173.275299   \n",
       "2024-04-30 13:30:00-04:00  173.304993  173.879898  173.100006  173.179993   \n",
       "2024-04-30 14:30:00-04:00  173.199997  173.345001  172.559998  172.729996   \n",
       "2024-04-30 15:30:00-04:00  172.740005  172.940002  170.020004  170.089996   \n",
       "\n",
       "                            Adj Close    Volume      SMA_20      SMA_50  \\\n",
       "Datetime                                                                  \n",
       "2022-06-10 09:30:00-04:00  137.490005  23421485  146.779439  147.263031   \n",
       "2022-06-10 10:30:00-04:00  137.399994  13497913  146.285439  147.027887   \n",
       "2022-06-10 11:30:00-04:00  137.975006   7736991  145.775689  146.813787   \n",
       "2022-06-10 12:30:00-04:00  138.089996   6411832  145.242439  146.614387   \n",
       "2022-06-10 13:30:00-04:00  137.960007   7293856  144.708189  146.406943   \n",
       "...                               ...       ...         ...         ...   \n",
       "2024-04-30 11:30:00-04:00  173.836594   3446845  172.079618  168.986474   \n",
       "2024-04-30 12:30:00-04:00  173.275299   4148810  172.286883  169.164732   \n",
       "2024-04-30 13:30:00-04:00  173.179993   3964263  172.449133  169.329932   \n",
       "2024-04-30 14:30:00-04:00  172.729996   4786101  172.590633  169.483732   \n",
       "2024-04-30 15:30:00-04:00  170.089996  11784580  172.562132  169.582232   \n",
       "\n",
       "                                  %K         %D        RSI   BB_Middle  \\\n",
       "Datetime                                                                 \n",
       "2022-06-10 09:30:00-04:00   0.246150   0.429504  15.611410  146.779439   \n",
       "2022-06-10 10:30:00-04:00   1.054255   0.754015  15.499934  146.285439   \n",
       "2022-06-10 11:30:00-04:00   6.109205   2.469870  19.456611  145.775689   \n",
       "2022-06-10 12:30:00-04:00   7.321360   4.828273  20.260719  145.242439   \n",
       "2022-06-10 13:30:00-04:00   6.160738   6.530434  20.017429  144.708189   \n",
       "...                              ...        ...        ...         ...   \n",
       "2024-04-30 11:30:00-04:00  67.932656  70.962925  64.151716  172.079618   \n",
       "2024-04-30 12:30:00-04:00  59.726591  65.335760  59.757395  172.286883   \n",
       "2024-04-30 13:30:00-04:00  58.333222  61.997490  59.018155  172.449133   \n",
       "2024-04-30 14:30:00-04:00  51.754316  56.604709  55.525482  172.590633   \n",
       "2024-04-30 15:30:00-04:00   1.164594  37.084044  40.414608  172.562132   \n",
       "\n",
       "                             BB_Upper    BB_Lower      MACD  MACD_Signal  \\\n",
       "Datetime                                                                   \n",
       "2022-06-10 09:30:00-04:00  152.291020  141.267858 -1.466908    -0.547692   \n",
       "2022-06-10 10:30:00-04:00  153.137159  139.433719 -1.930529    -0.824260   \n",
       "2022-06-10 11:30:00-04:00  153.457423  138.093955 -2.225894    -1.104586   \n",
       "2022-06-10 12:30:00-04:00  153.483210  137.001667 -2.422766    -1.368222   \n",
       "2022-06-10 13:30:00-04:00  153.371900  136.044477 -2.559770    -1.606532   \n",
       "...                               ...         ...       ...          ...   \n",
       "2024-04-30 11:30:00-04:00  176.451501  167.707735  1.488587     1.438002   \n",
       "2024-04-30 12:30:00-04:00  176.468678  168.105088  1.380488     1.426499   \n",
       "2024-04-30 13:30:00-04:00  176.503188  168.395077  1.272460     1.395692   \n",
       "2024-04-30 14:30:00-04:00  176.472827  168.708438  1.137425     1.344038   \n",
       "2024-04-30 15:30:00-04:00  176.508441  168.615823  0.808067     1.236844   \n",
       "\n",
       "                                ATR  \n",
       "Datetime                             \n",
       "2022-06-10 09:30:00-04:00  1.526065  \n",
       "2022-06-10 10:30:00-04:00  1.507703  \n",
       "2022-06-10 11:30:00-04:00  1.455725  \n",
       "2022-06-10 12:30:00-04:00  1.405316  \n",
       "2022-06-10 13:30:00-04:00  1.377080  \n",
       "...                             ...  \n",
       "2024-04-30 11:30:00-04:00  1.206533  \n",
       "2024-04-30 12:30:00-04:00  1.171066  \n",
       "2024-04-30 13:30:00-04:00  1.143125  \n",
       "2024-04-30 14:30:00-04:00  1.117545  \n",
       "2024-04-30 15:30:00-04:00  1.246291  \n",
       "\n",
       "[3306 rows x 17 columns]"
      ]
     },
     "execution_count": 4,
     "metadata": {},
     "output_type": "execute_result"
    }
   ],
   "source": [
    "# Printing out example dataframe\n",
    "full_stock_data['AAPL']"
   ]
  },
  {
   "cell_type": "code",
   "execution_count": null,
   "metadata": {},
   "outputs": [],
   "source": [
    "# Saving the means and std for normalization\n",
    "means = pd.DataFrame()\n",
    "std_devs = pd.DataFrame()\n",
    "\n",
    "for ticker, df in full_stock_data.items():\n",
    "    mean = df.mean()\n",
    "    std_dev = df.std()\n",
    "\n",
    "    means[ticker] = mean\n",
    "    std_devs[ticker] = std_dev\n",
    "\n",
    "means.to_csv('train_hourly_mean.csv')\n",
    "std_devs.to_csv('train_hourly_std_dev.csv')"
   ]
  },
  {
   "cell_type": "markdown",
   "metadata": {
    "id": "KKr7IGNtbl_E"
   },
   "source": [
    "# Creating/Training the LSTM"
   ]
  },
  {
   "cell_type": "code",
   "execution_count": 24,
   "metadata": {
    "id": "knwU22R6tv_4"
   },
   "outputs": [],
   "source": [
    "# Importing relevant libraries for the training of the LSTM\n",
    "import sklearn.preprocessing as sklp\n",
    "import sklearn.model_selection as sklm\n",
    "import torch\n",
    "import copy\n",
    "import torch.nn as nn\n",
    "import torch.optim as optim\n",
    "import torch.nn.functional as F\n",
    "from torch.utils.data import DataLoader, Dataset\n",
    "import numpy as np\n",
    "from tqdm import tqdm"
   ]
  },
  {
   "cell_type": "code",
   "execution_count": 25,
   "metadata": {
    "id": "T6quQgu7xCTw"
   },
   "outputs": [],
   "source": [
    "# Importing the datasets we use throughout our code -> see specs in the lstm_datasets.py file\n",
    "from lstm_datasets import TimeSeriesDataset, ValTimeSeriesDataset"
   ]
  },
  {
   "cell_type": "code",
   "execution_count": 26,
   "metadata": {
    "id": "ILGNkZGMuBby"
   },
   "outputs": [],
   "source": [
    "stock_data = full_stock_data\n",
    "tickers = list(stock_data.keys())"
   ]
  },
  {
   "cell_type": "code",
   "execution_count": 27,
   "metadata": {
    "id": "PtIOEO66H96V"
   },
   "outputs": [],
   "source": [
    "# In case we train on GPU\n",
    "device = torch.device(\"cuda\" if torch.cuda.is_available() else \"cpu\")"
   ]
  },
  {
   "cell_type": "markdown",
   "metadata": {
    "id": "weP9KGeEwgkH"
   },
   "source": [
    "## LSTM Model"
   ]
  },
  {
   "cell_type": "code",
   "execution_count": 28,
   "metadata": {
    "id": "mkNm0qdRwgRG"
   },
   "outputs": [],
   "source": [
    "# Import model, see specs in lstm.py file\n",
    "from lstm import LSTM"
   ]
  },
  {
   "cell_type": "markdown",
   "metadata": {
    "id": "oYTZSJJLyPAT"
   },
   "source": [
    "### Train & Validation loops"
   ]
  },
  {
   "cell_type": "code",
   "execution_count": 29,
   "metadata": {
    "id": "L7VOP2b5x8mh"
   },
   "outputs": [],
   "source": [
    "# The validation loop given a criterion and dataloader\n",
    "def val_on_stock(model, val_dataloader, criterion):\n",
    "  # Get val loss\n",
    "  val_running_loss = 0\n",
    "  tot = 0\n",
    "\n",
    "  model.eval()\n",
    "  with torch.no_grad():\n",
    "    for i, (inputs, labels) in enumerate(val_dataloader):\n",
    "        labels = labels.view(-1, 1).to(device)\n",
    "        inputs = inputs.to(device)\n",
    "\n",
    "        outputs = model(inputs)\n",
    "\n",
    "        loss = criterion(outputs, labels)\n",
    "\n",
    "        val_running_loss += loss.item()\n",
    "        tot += 1\n",
    "\n",
    "  return val_running_loss/tot"
   ]
  },
  {
   "cell_type": "code",
   "execution_count": 30,
   "metadata": {
    "id": "nq0pV4SVN4BI"
   },
   "outputs": [],
   "source": [
    "# The training loop given a criterion and dataloader\n",
    "def train_on_stock(model, val_dataloader, train_dataloader, criterion, epochs, print_epochs=False):\n",
    "  # To store the losses\n",
    "  train_loss_arr = []\n",
    "  val_loss_arr = []\n",
    "  best_loss_val = float('inf')\n",
    "\n",
    "  # Store best_model\n",
    "  best_model = None\n",
    "\n",
    "  #Initialize optimizer\n",
    "  optimizer = optim.Adam(model.parameters(), lr=learning_rate)\n",
    "\n",
    "  # Training loop\n",
    "  for epoch in range(epochs):\n",
    "\n",
    "      running_loss = 0.0\n",
    "      tot = 0\n",
    "\n",
    "      model.train()\n",
    "\n",
    "      for i, (inputs, labels) in enumerate(train_dataloader):\n",
    "\n",
    "        labels = labels.view(-1, 1).to(device)\n",
    "        inputs = inputs.to(device)\n",
    "\n",
    "        optimizer.zero_grad()\n",
    "        preds = model(inputs) # Forward pass\n",
    "        loss = criterion(preds, labels)\n",
    "\n",
    "\n",
    "        running_loss += loss.item()\n",
    "\n",
    "        loss.backward()\n",
    "        optimizer.step() # Gradient step\n",
    "\n",
    "        tot += 1\n",
    "\n",
    "      val_loss = val_on_stock(model, val_dataloader, criterion) # Getting val loss\n",
    "      train_loss = running_loss/tot\n",
    "\n",
    "      train_loss_arr.append(train_loss)\n",
    "      val_loss_arr.append(val_loss)\n",
    "      if best_model==None or best_val_loss>val_loss:\n",
    "        best_val_loss = val_loss\n",
    "        best_model = copy.deepcopy(model.state_dict())\n",
    "\n",
    "      if print_epochs:\n",
    "        print(f\"Epoch {epoch+1}/{epochs}: Training loss = {round(train_loss, 5)}, Validation loss = {round(val_loss, 5)}\")\n",
    "\n",
    "  return train_loss_arr, val_loss_arr, best_model"
   ]
  },
  {
   "cell_type": "markdown",
   "metadata": {
    "id": "OXrWAllTFAZv"
   },
   "source": [
    "## Optimal hyperparameters used to train all models"
   ]
  },
  {
   "cell_type": "code",
   "execution_count": 31,
   "metadata": {
    "id": "g5lPB8gyE_2r"
   },
   "outputs": [],
   "source": [
    "# Hyper parameters\n",
    "num_layers = 4\n",
    "hidden_size = 100\n",
    "input_size = 17\n",
    "\n",
    "batch_size = 20\n",
    "\n",
    "learning_rate = 1e-5\n",
    "lstm_epochs = 30"
   ]
  },
  {
   "cell_type": "markdown",
   "metadata": {
    "id": "OxkwlvRlEzWE"
   },
   "source": [
    "## Training to look forward for a day"
   ]
  },
  {
   "cell_type": "code",
   "execution_count": 32,
   "metadata": {
    "id": "sRZl-A1vWPv6"
   },
   "outputs": [],
   "source": [
    "#params for dataset\n",
    "b = 1\n",
    "f = 1\n",
    "\n",
    "n_lags = 8 * 30 * b #look back n MONTHS: hours/market-day * days * quantity\n",
    "forecast_horizon = 8 * f #look ahead f days:\n",
    "\n",
    "# Creating the val/train split used for all stocks\n",
    "tot = int(sum([len(d)-n_lags-forecast_horizon+1 for d in full_stock_data.values()])/len(full_stock_data))\n",
    "train_split, val_split = tot - int(tot*0.2), int(tot*0.2)\n",
    "indices = list(range(tot))\n",
    "train_indices = indices[:train_split]\n",
    "val_indices = indices[train_split:]\n",
    "\n",
    "stock_datastruct = {}\n",
    "\n",
    "# Creating datasets\n",
    "for key, value in full_stock_data.items():\n",
    "  mean = value.mean()\n",
    "  std_dev = value.std()\n",
    "  value = (value - mean) / std_dev\n",
    "\n",
    "  val_dataset = TimeSeriesDataset(key, value, n_lags, forecast_horizon, indices=val_indices)\n",
    "  train_dataset = TimeSeriesDataset(key, value, n_lags, forecast_horizon, indices=train_indices)\n",
    "\n",
    "  temp = {'val_dataset':val_dataset, 'train_dataset':train_dataset, 'mean':mean, 'std':std_dev}\n",
    "  stock_datastruct[val_dataset.ticker] = temp"
   ]
  },
  {
   "cell_type": "code",
   "execution_count": 33,
   "metadata": {
    "id": "O62mJnR7x_My"
   },
   "outputs": [],
   "source": [
    "# Creating the loss\n",
    "criterion = nn.MSELoss()\n",
    "\n",
    "# Initialize LSTM models for each stock\n",
    "for ticker in stock_datastruct.keys():\n",
    "  stock_datastruct[ticker]['LSTM'] = LSTM(num_layers, input_size, hidden_size, device).to(device)"
   ]
  },
  {
   "cell_type": "code",
   "execution_count": 34,
   "metadata": {
    "id": "-T-A3tdigoqy"
   },
   "outputs": [],
   "source": [
    "# Creating dataloaders\n",
    "for ticker in stock_datastruct.keys():\n",
    "    val_dataloader = DataLoader(stock_datastruct[ticker]['val_dataset'], batch_size=batch_size, shuffle=False)\n",
    "    train_dataloader = DataLoader(stock_datastruct[ticker]['train_dataset'], batch_size=batch_size, shuffle=True)\n",
    "    stock_datastruct[ticker]['val_dataloader'] = val_dataloader\n",
    "    stock_datastruct[ticker]['train_dataloader'] = train_dataloader"
   ]
  },
  {
   "cell_type": "code",
   "execution_count": null,
   "metadata": {
    "id": "Q4VVbzaiGg7f"
   },
   "outputs": [],
   "source": [
    "# Making the directory where we will be storing all the models for each ticker\n",
    "!rm -r /content/LSTM_weights\n",
    "!mkdir LSTM_weights"
   ]
  },
  {
   "cell_type": "code",
   "execution_count": null,
   "metadata": {
    "colab": {
     "base_uri": "https://localhost:8080/"
    },
    "id": "RQ8k2LQxFxvj",
    "outputId": "29b393b3-8ea2-437f-ced0-eb7d0d9c0f16",
    "scrolled": true
   },
   "outputs": [],
   "source": [
    "# Dictionary where we will be storing training losses and validation losses\n",
    "loss_dict = dict()\n",
    "loss_dict['val_loss'] = dict()\n",
    "loss_dict['train_loss'] = dict()\n",
    "loss_dict['best_val'] = dict()\n",
    "\n",
    "# Iterate through each ticker, train the model, save the weights and save all loses in a file\n",
    "for ticker in stock_datastruct.keys():\n",
    "    stock = stock_datastruct[ticker]\n",
    "    model = stock['LSTM']\n",
    "    val_dataloader = stock['val_dataloader']\n",
    "    train_dataloader = stock['train_dataloader']\n",
    "\n",
    "    # Train this lticker's lstm\n",
    "    lstm_train_loss, lstm_val_loss, best_model = train_on_stock(model, val_dataloader, train_dataloader, criterion, lstm_epochs)\n",
    "\n",
    "    # Printing ticker's best val loss\n",
    "    model.load_state_dict(best_model)\n",
    "    best_val_loss = val_on_stock(model, val_dataloader, criterion)\n",
    "    print(f\"Test/Validation loss for {ticker} after training : {round(best_val_loss, 5)}\")\n",
    "\n",
    "    # Record results\n",
    "    loss_dict['val_loss'][ticker] = lstm_val_loss\n",
    "    loss_dict['train_loss'][ticker] = lstm_train_loss\n",
    "    loss_dict['best_val'][ticker] = best_val_loss\n",
    "\n",
    "    # Save the model for this ticker\n",
    "    torch.save(best_model, \"LSTM_weights/\"+ticker+\".pt\")"
   ]
  },
  {
   "cell_type": "code",
   "execution_count": null,
   "metadata": {
    "colab": {
     "base_uri": "https://localhost:8080/"
    },
    "id": "rklENCuyO_CF",
    "outputId": "448e5506-8691-44e5-fbdc-169882fb52d7",
    "scrolled": true
   },
   "outputs": [],
   "source": [
    "# Zipping the weights folder to download\n",
    "!zip -r LSTM_weights.zip LSTM_weights"
   ]
  },
  {
   "cell_type": "code",
   "execution_count": null,
   "metadata": {
    "id": "SGbhKixaSQ8G"
   },
   "outputs": [],
   "source": [
    "# Saving the loss_dict which has all train/val stats\n",
    "file_path = \"run_stats_day.json\"\n",
    "with open(file_path, \"w\") as json_file:\n",
    "    json.dump(loss_dict, json_file)"
   ]
  },
  {
   "cell_type": "markdown",
   "metadata": {},
   "source": [
    "## Predict future changes"
   ]
  },
  {
   "cell_type": "code",
   "execution_count": 1,
   "metadata": {},
   "outputs": [],
   "source": [
    "# Go in the lstm_predict file to see specs\n",
    "from lstm_predict import predict\n",
    "import pandas as pd"
   ]
  },
  {
   "cell_type": "code",
   "execution_count": 2,
   "metadata": {
    "id": "UtsZBX3YtUES",
    "scrolled": true
   },
   "outputs": [
    {
     "name": "stderr",
     "output_type": "stream",
     "text": [
      "[*********************100%%**********************]  1 of 1 completed\n",
      "[*********************100%%**********************]  1 of 1 completed\n",
      "[*********************100%%**********************]  1 of 1 completed\n",
      "[*********************100%%**********************]  1 of 1 completed\n",
      "[*********************100%%**********************]  1 of 1 completed\n",
      "[*********************100%%**********************]  1 of 1 completed\n",
      "[*********************100%%**********************]  1 of 1 completed\n",
      "[*********************100%%**********************]  1 of 1 completed\n",
      "[*********************100%%**********************]  1 of 1 completed\n",
      "[*********************100%%**********************]  1 of 1 completed\n",
      "[*********************100%%**********************]  1 of 1 completed\n",
      "[*********************100%%**********************]  1 of 1 completed\n",
      "[*********************100%%**********************]  1 of 1 completed\n",
      "[*********************100%%**********************]  1 of 1 completed\n",
      "[*********************100%%**********************]  1 of 1 completed\n",
      "[*********************100%%**********************]  1 of 1 completed\n",
      "[*********************100%%**********************]  1 of 1 completed\n",
      "[*********************100%%**********************]  1 of 1 completed\n",
      "[*********************100%%**********************]  1 of 1 completed\n",
      "[*********************100%%**********************]  1 of 1 completed\n",
      "[*********************100%%**********************]  1 of 1 completed\n",
      "[*********************100%%**********************]  1 of 1 completed\n",
      "[*********************100%%**********************]  1 of 1 completed\n",
      "[*********************100%%**********************]  1 of 1 completed\n",
      "[*********************100%%**********************]  1 of 1 completed\n",
      "[*********************100%%**********************]  1 of 1 completed\n",
      "[*********************100%%**********************]  1 of 1 completed\n",
      "[*********************100%%**********************]  1 of 1 completed\n",
      "[*********************100%%**********************]  1 of 1 completed\n",
      "[*********************100%%**********************]  1 of 1 completed\n",
      "[*********************100%%**********************]  1 of 1 completed\n",
      "[*********************100%%**********************]  1 of 1 completed\n",
      "[*********************100%%**********************]  1 of 1 completed\n",
      "[*********************100%%**********************]  1 of 1 completed\n",
      "[*********************100%%**********************]  1 of 1 completed\n",
      "[*********************100%%**********************]  1 of 1 completed\n",
      "[*********************100%%**********************]  1 of 1 completed\n",
      "[*********************100%%**********************]  1 of 1 completed\n",
      "[*********************100%%**********************]  1 of 1 completed\n",
      "[*********************100%%**********************]  1 of 1 completed\n",
      "[*********************100%%**********************]  1 of 1 completed\n",
      "[*********************100%%**********************]  1 of 1 completed\n",
      "[*********************100%%**********************]  1 of 1 completed\n",
      "[*********************100%%**********************]  1 of 1 completed\n",
      "[*********************100%%**********************]  1 of 1 completed\n",
      "[*********************100%%**********************]  1 of 1 completed\n",
      "[*********************100%%**********************]  1 of 1 completed\n",
      "[*********************100%%**********************]  1 of 1 completed\n",
      "[*********************100%%**********************]  1 of 1 completed\n",
      "[*********************100%%**********************]  1 of 1 completed\n",
      "[*********************100%%**********************]  1 of 1 completed\n",
      "[*********************100%%**********************]  1 of 1 completed\n",
      "[*********************100%%**********************]  1 of 1 completed\n",
      "[*********************100%%**********************]  1 of 1 completed\n",
      "[*********************100%%**********************]  1 of 1 completed\n",
      "[*********************100%%**********************]  1 of 1 completed\n",
      "[*********************100%%**********************]  1 of 1 completed\n",
      "Predicting: 100%|██████████████████████████████████████████████████████████████████████| 55/55 [02:32<00:00,  2.77s/it]"
     ]
    },
    {
     "name": "stdout",
     "output_type": "stream",
     "text": [
      "{'AAPL': {'var': 0.03229965841211378, 'pred': 0.9963553527645593}, 'ABBV': {'var': 0.09145570208504795, 'pred': 0.9951756982124959}, 'ACN': {'var': 0.12255654838867486, 'pred': 0.9520299012615923}, 'ADBE': {'var': 0.07245921783242375, 'pred': 0.9827912504513072}, 'ADI': {'var': 0.06614626952446997, 'pred': 0.9738882613721509}, 'AMD': {'var': 0.07164631316252053, 'pred': 0.9063616873070777}, 'AMZN': {'var': 0.048034335242584346, 'pred': 0.9704947310030998}, 'ASML': {'var': 0.04484026945708319, 'pred': 0.9922068881380286}, 'AVGO': {'var': 0.1398029921222478, 'pred': 0.9300886026759442}, 'BA': {'var': 0.03284067241288722, 'pred': 0.9640791878997519}, 'BAB': {'var': 0.052839684963226316, 'pred': 1.0057651446309699}, 'BAC': {'var': 0.06285560494940728, 'pred': 0.9901543219381271}, 'BLK': {'var': 0.09697975562792271, 'pred': 0.9469221984757843}, 'BRK-B': {'var': 0.026549679246731104, 'pred': 1.0010675897647365}, 'COST': {'var': 0.22079243638552726, 'pred': 0.9453182805608836}, 'CRM': {'var': 0.08495742704160511, 'pred': 0.9367457289666979}, 'CVS': {'var': 0.021135019163368268, 'pred': 0.9814779270169462}, 'CVX': {'var': 0.14965784310922026, 'pred': 0.9979659033795394}, 'DELL': {'var': 0.13292068028915674, 'pred': 0.9567718844387614}, 'F': {'var': 0.1732287859544158, 'pred': 0.9756567621192661}, 'GE': {'var': 0.013150931957177817, 'pred': 0.9714748513619167}, 'GM': {'var': 0.1709537386521697, 'pred': 0.9682013371232}, 'GOOG': {'var': 0.052744970636442304, 'pred': 0.9818985464983028}, 'GOOGL': {'var': 0.07489087239373475, 'pred': 0.9816424823640711}, 'HD': {'var': 0.11196728910878301, 'pred': 0.9783110024059323}, 'JNJ': {'var': 0.0702292474610731, 'pred': 0.990868874556769}, 'JPM': {'var': 0.02853861484094523, 'pred': 0.969736851422493}, 'KO': {'var': 0.07467025364935398, 'pred': 0.9985413245385737}, 'LIN': {'var': 0.039798658616840836, 'pred': 0.9905851761241745}, 'LLY': {'var': 0.033154655655613166, 'pred': 1.0069913493390095}, 'LMT': {'var': 0.0675349410045892, 'pred': 0.9980482354403741}, 'MA': {'var': 0.034251541117671876, 'pred': 0.9955234397326327}, 'MCD': {'var': 0.03689859858714044, 'pred': 0.9951597651631454}, 'META': {'var': 0.03079894628515467, 'pred': 0.9489811371648025}, 'MRK': {'var': 0.029718734469264745, 'pred': 0.9992795252738756}, 'MRNA': {'var': 0.07216871312540024, 'pred': 0.9488638247175362}, 'MS': {'var': 0.15324342698231339, 'pred': 0.9802152745438093}, 'MSFT': {'var': 0.04398453618586064, 'pred': 0.9797622094134868}, 'NKE': {'var': 0.073840864893049, 'pred': 1.0044042744765653}, 'NOC': {'var': 0.09600128395669162, 'pred': 1.0009422285233172}, 'NVDA': {'var': 0.01705498261237517, 'pred': 0.9625981066617514}, 'ORCL': {'var': 0.02012677452340722, 'pred': 0.9947728105905986}, 'PEP': {'var': 0.2609850502323825, 'pred': 1.0024221760443284}, 'PFE': {'var': 0.0422595418728888, 'pred': 1.0455374264137522}, 'PG': {'var': 0.06766382299922406, 'pred': 1.0037640115368431}, 'PYPL': {'var': 0.06693299825303256, 'pred': 0.9751128089782272}, 'QCOM': {'var': 0.09328711124695838, 'pred': 1.004267778938028}, 'RTX': {'var': 0.06471537919715047, 'pred': 0.9886493716643314}, 'T': {'var': 0.032455156527459623, 'pred': 0.9993845255870301}, 'TM': {'var': 0.12031394380657003, 'pred': 1.006622220430824}, 'TMO': {'var': 0.25193910948187115, 'pred': 0.9725241990907931}, 'TSLA': {'var': 0.05153667854145169, 'pred': 0.9931241389112153}, 'UNH': {'var': 0.13850818936014547, 'pred': 1.0058428878909118}, 'WMT': {'var': 0.030412526593543588, 'pred': 1.0060648405187262}, 'XOM': {'var': 0.07205948198959232, 'pred': 0.9863883348532702}}\n"
     ]
    },
    {
     "name": "stderr",
     "output_type": "stream",
     "text": [
      "\n"
     ]
    }
   ],
   "source": [
    "# Inputs\n",
    "timestep = \"d\"\n",
    "start_date = pd.Timestamp('2023-12-29 15:30:00-05:00', tz='America/New_York')\n",
    "\n",
    "# Function\n",
    "preds = predict(timestep, start_date)\n",
    "print(preds)"
   ]
  },
  {
   "cell_type": "code",
   "execution_count": 3,
   "metadata": {
    "scrolled": true
   },
   "outputs": [
    {
     "name": "stderr",
     "output_type": "stream",
     "text": [
      "[*********************100%%**********************]  1 of 1 completed\n",
      "[*********************100%%**********************]  1 of 1 completed\n",
      "[*********************100%%**********************]  1 of 1 completed\n",
      "[*********************100%%**********************]  1 of 1 completed\n",
      "[*********************100%%**********************]  1 of 1 completed\n",
      "[*********************100%%**********************]  1 of 1 completed\n",
      "[*********************100%%**********************]  1 of 1 completed\n",
      "[*********************100%%**********************]  1 of 1 completed\n",
      "[*********************100%%**********************]  1 of 1 completed\n",
      "[*********************100%%**********************]  1 of 1 completed\n",
      "[*********************100%%**********************]  1 of 1 completed\n",
      "[*********************100%%**********************]  1 of 1 completed\n",
      "[*********************100%%**********************]  1 of 1 completed\n",
      "[*********************100%%**********************]  1 of 1 completed\n",
      "[*********************100%%**********************]  1 of 1 completed\n",
      "[*********************100%%**********************]  1 of 1 completed\n",
      "[*********************100%%**********************]  1 of 1 completed\n",
      "[*********************100%%**********************]  1 of 1 completed\n",
      "[*********************100%%**********************]  1 of 1 completed\n",
      "[*********************100%%**********************]  1 of 1 completed\n",
      "[*********************100%%**********************]  1 of 1 completed\n",
      "[*********************100%%**********************]  1 of 1 completed\n",
      "[*********************100%%**********************]  1 of 1 completed\n",
      "[*********************100%%**********************]  1 of 1 completed\n",
      "[*********************100%%**********************]  1 of 1 completed\n",
      "[*********************100%%**********************]  1 of 1 completed\n",
      "[*********************100%%**********************]  1 of 1 completed\n",
      "[*********************100%%**********************]  1 of 1 completed\n",
      "[*********************100%%**********************]  1 of 1 completed\n",
      "[*********************100%%**********************]  1 of 1 completed\n",
      "[*********************100%%**********************]  1 of 1 completed\n",
      "[*********************100%%**********************]  1 of 1 completed\n",
      "[*********************100%%**********************]  1 of 1 completed\n",
      "[*********************100%%**********************]  1 of 1 completed\n",
      "[*********************100%%**********************]  1 of 1 completed\n",
      "[*********************100%%**********************]  1 of 1 completed\n",
      "[*********************100%%**********************]  1 of 1 completed\n",
      "[*********************100%%**********************]  1 of 1 completed\n",
      "[*********************100%%**********************]  1 of 1 completed\n",
      "[*********************100%%**********************]  1 of 1 completed\n",
      "[*********************100%%**********************]  1 of 1 completed\n",
      "[*********************100%%**********************]  1 of 1 completed\n",
      "[*********************100%%**********************]  1 of 1 completed\n",
      "[*********************100%%**********************]  1 of 1 completed\n",
      "[*********************100%%**********************]  1 of 1 completed\n",
      "[*********************100%%**********************]  1 of 1 completed\n",
      "[*********************100%%**********************]  1 of 1 completed\n",
      "[*********************100%%**********************]  1 of 1 completed\n",
      "[*********************100%%**********************]  1 of 1 completed\n",
      "[*********************100%%**********************]  1 of 1 completed\n",
      "[*********************100%%**********************]  1 of 1 completed\n",
      "[*********************100%%**********************]  1 of 1 completed\n",
      "[*********************100%%**********************]  1 of 1 completed\n",
      "[*********************100%%**********************]  1 of 1 completed\n",
      "[*********************100%%**********************]  1 of 1 completed\n",
      "[*********************100%%**********************]  1 of 1 completed\n",
      "[*********************100%%**********************]  1 of 1 completed\n",
      "[*********************100%%**********************]  1 of 1 completed\n",
      "[*********************100%%**********************]  1 of 1 completed\n",
      "Predicting: 100%|██████████████████████████████████████████████████████████████████████████████████████████████████████████| 59/59 [01:16<00:00,  1.30s/it]"
     ]
    },
    {
     "name": "stdout",
     "output_type": "stream",
     "text": [
      "{'AAPL': {'var': 0.07187532869939534, 'pred': 0.9796605355549907}, 'ACN': {'var': 0.012338845785822602, 'pred': 0.9767178345423326}, 'ADBE': {'var': 0.015374914440431271, 'pred': 0.9739318934424135}, 'ADI': {'var': 0.02266283431205781, 'pred': 0.9527028505004763}, 'AMD': {'var': 0.023931704522928577, 'pred': 0.9806404486496129}, 'AMZN': {'var': 0.015018152099540341, 'pred': 1.0159901400556646}, 'ASML': {'var': 0.021060422883025027, 'pred': 0.9926310023768864}, 'AVGO': {'var': 0.06434888849957837, 'pred': 0.7344561262703375}, 'BA': {'var': 0.05976397898635483, 'pred': 0.9592030228142739}, 'BAB': {'var': 0.0879679675683849, 'pred': 1.023611659275051}, 'BAC': {'var': 0.031193489654551824, 'pred': 0.9953165968501121}, 'BLK': {'var': 0.03180508332448668, 'pred': 0.9826450328390806}, 'BRK-B': {'var': 0.022362935129209078, 'pred': 1.0009270342903274}, 'COST': {'var': 0.04571870813851018, 'pred': 0.9286561564785465}, 'CRM': {'var': 0.019617577760662832, 'pred': 0.983260092621987}, 'CVS': {'var': 0.051092861958586415, 'pred': 0.9723775351515733}, 'CVX': {'var': 0.16762748663523444, 'pred': 0.9872931689936145}, 'F': {'var': 0.06819820766303655, 'pred': 1.0433835824290638}, 'GE': {'var': 0.011910202284763055, 'pred': 1.0334028404417974}, 'GM': {'var': 0.0911809366997667, 'pred': 0.9992006058332861}, 'GOOG': {'var': 0.011993555001928136, 'pred': 0.9932361774429965}, 'GOOGL': {'var': 0.02361994450660171, 'pred': 1.0123888639301557}, 'GS': {'var': 0.030256917822879512, 'pred': 0.9444662007828576}, 'HD': {'var': 0.01361516703167712, 'pred': 1.0041580057089672}, 'JNJ': {'var': 0.02794356837182784, 'pred': 1.0143843794826566}, 'JPM': {'var': 0.02047128369507321, 'pred': 0.95417235291856}, 'KO': {'var': 0.0678837302094745, 'pred': 1.0021563384872967}, 'LIN': {'var': 0.049604412778658236, 'pred': 0.9564313433593594}, 'LLY': {'var': 0.1273934058236747, 'pred': 0.7308845653965672}, 'LMT': {'var': 0.029804697587482026, 'pred': 0.9550270231490444}, 'LRLCY': {'var': 0.01931691799430294, 'pred': 0.9717344156696127}, 'LVMUY': {'var': 0.03903000193295648, 'pred': 1.0073920751051613}, 'MA': {'var': 0.014236121488261028, 'pred': 0.9531565564658208}, 'MCD': {'var': 0.027960292637339786, 'pred': 0.9537679295640052}, 'META': {'var': 0.021878163841540448, 'pred': 1.0301353279591692}, 'MRK': {'var': 0.11435184104846337, 'pred': 0.8797111022311144}, 'MS': {'var': 0.02168764188667541, 'pred': 0.9308655878663099}, 'MSFT': {'var': 0.030630172802940815, 'pred': 0.9707882635890313}, 'NFLX': {'var': 0.027331072286501324, 'pred': 0.9769776567628513}, 'NKE': {'var': 0.02363796768603041, 'pred': 1.0664780399928748}, 'NOC': {'var': 0.061128506390797394, 'pred': 0.9428194465110813}, 'NSRGY': {'var': 0.02389833507304256, 'pred': 0.9901340266510648}, 'NVDA': {'var': 0.09878721136834707, 'pred': 0.8328838170455228}, 'ORCL': {'var': 0.04855929568896557, 'pred': 0.9533725874562393}, 'PEP': {'var': 0.030766664471410146, 'pred': 1.0026162118486506}, 'PFE': {'var': 0.07532100575170605, 'pred': 1.079452616362215}, 'PG': {'var': 0.023300924056276748, 'pred': 0.9841282788311818}, 'QCOM': {'var': 0.03188934429472119, 'pred': 1.009616052606365}, 'RTX': {'var': 0.08411778729862056, 'pred': 1.0221614823510512}, 'SBGSY': {'var': 0.0877437989378499, 'pred': 0.9905716817823643}, 'T': {'var': 0.09811287213679033, 'pred': 0.9996516474725867}, 'TM': {'var': 0.07808609363866283, 'pred': 1.012701328792724}, 'TMO': {'var': 0.01327781316610305, 'pred': 0.9975775806464463}, 'TSLA': {'var': 0.051579479379831136, 'pred': 1.0785298030378039}, 'UNH': {'var': 0.01838241300864464, 'pred': 0.976770055467612}, 'V': {'var': 0.015348057181842893, 'pred': 0.9474034091805147}, 'WFC': {'var': 0.073006619032271, 'pred': 0.9983018492237856}, 'WMT': {'var': 0.034026555582746726, 'pred': 0.9937101154425502}, 'XOM': {'var': 0.08866804823078014, 'pred': 1.0344470721462848}}\n"
     ]
    },
    {
     "name": "stderr",
     "output_type": "stream",
     "text": [
      "\n"
     ]
    }
   ],
   "source": [
    "# Inputs\n",
    "timestep = \"w\"\n",
    "start_date = '2023-12-29'\n",
    "\n",
    "# Function\n",
    "preds = predict(timestep, start_date)\n",
    "print(preds)"
   ]
  },
  {
   "cell_type": "code",
   "execution_count": 4,
   "metadata": {
    "scrolled": true
   },
   "outputs": [
    {
     "name": "stderr",
     "output_type": "stream",
     "text": [
      "[*********************100%%**********************]  1 of 1 completed\n",
      "[*********************100%%**********************]  1 of 1 completed\n",
      "[*********************100%%**********************]  1 of 1 completed\n",
      "[*********************100%%**********************]  1 of 1 completed\n",
      "[*********************100%%**********************]  1 of 1 completed\n",
      "[*********************100%%**********************]  1 of 1 completed\n",
      "[*********************100%%**********************]  1 of 1 completed\n",
      "[*********************100%%**********************]  1 of 1 completed\n",
      "[*********************100%%**********************]  1 of 1 completed\n",
      "[*********************100%%**********************]  1 of 1 completed\n",
      "[*********************100%%**********************]  1 of 1 completed\n",
      "[*********************100%%**********************]  1 of 1 completed\n",
      "[*********************100%%**********************]  1 of 1 completed\n",
      "[*********************100%%**********************]  1 of 1 completed\n",
      "[*********************100%%**********************]  1 of 1 completed\n",
      "[*********************100%%**********************]  1 of 1 completed\n",
      "[*********************100%%**********************]  1 of 1 completed\n",
      "[*********************100%%**********************]  1 of 1 completed\n",
      "[*********************100%%**********************]  1 of 1 completed\n",
      "[*********************100%%**********************]  1 of 1 completed\n",
      "[*********************100%%**********************]  1 of 1 completed\n",
      "[*********************100%%**********************]  1 of 1 completed\n",
      "[*********************100%%**********************]  1 of 1 completed\n",
      "[*********************100%%**********************]  1 of 1 completed\n",
      "[*********************100%%**********************]  1 of 1 completed\n",
      "[*********************100%%**********************]  1 of 1 completed\n",
      "[*********************100%%**********************]  1 of 1 completed\n",
      "[*********************100%%**********************]  1 of 1 completed\n",
      "[*********************100%%**********************]  1 of 1 completed\n",
      "[*********************100%%**********************]  1 of 1 completed\n",
      "[*********************100%%**********************]  1 of 1 completed\n",
      "[*********************100%%**********************]  1 of 1 completed\n",
      "[*********************100%%**********************]  1 of 1 completed\n",
      "[*********************100%%**********************]  1 of 1 completed\n",
      "[*********************100%%**********************]  1 of 1 completed\n",
      "[*********************100%%**********************]  1 of 1 completed\n",
      "[*********************100%%**********************]  1 of 1 completed\n",
      "[*********************100%%**********************]  1 of 1 completed\n",
      "[*********************100%%**********************]  1 of 1 completed\n",
      "[*********************100%%**********************]  1 of 1 completed\n",
      "[*********************100%%**********************]  1 of 1 completed\n",
      "[*********************100%%**********************]  1 of 1 completed\n",
      "[*********************100%%**********************]  1 of 1 completed\n",
      "[*********************100%%**********************]  1 of 1 completed\n",
      "[*********************100%%**********************]  1 of 1 completed\n",
      "[*********************100%%**********************]  1 of 1 completed\n",
      "[*********************100%%**********************]  1 of 1 completed\n",
      "[*********************100%%**********************]  1 of 1 completed\n",
      "[*********************100%%**********************]  1 of 1 completed\n",
      "[*********************100%%**********************]  1 of 1 completed\n",
      "[*********************100%%**********************]  1 of 1 completed\n",
      "[*********************100%%**********************]  1 of 1 completed\n",
      "[*********************100%%**********************]  1 of 1 completed\n",
      "[*********************100%%**********************]  1 of 1 completed\n",
      "[*********************100%%**********************]  1 of 1 completed\n",
      "[*********************100%%**********************]  1 of 1 completed\n",
      "[*********************100%%**********************]  1 of 1 completed\n",
      "Predicting:   2%|█▉                                                                                                         | 1/54 [00:02<01:53,  2.15s/it]"
     ]
    },
    {
     "name": "stdout",
     "output_type": "stream",
     "text": [
      "Failed to predict ABBV\n"
     ]
    },
    {
     "name": "stderr",
     "output_type": "stream",
     "text": [
      "Predicting: 100%|██████████████████████████████████████████████████████████████████████████████████████████████████████████| 54/54 [01:08<00:00,  1.27s/it]"
     ]
    },
    {
     "name": "stdout",
     "output_type": "stream",
     "text": [
      "{'AAPL': {'var': 0.03195311777764635, 'pred': 0.9053451999511254}, 'ACN': {'var': 0.08188173686450517, 'pred': 0.9650279081258072}, 'ADBE': {'var': 0.07676217165479267, 'pred': 0.9902861952787125}, 'ADI': {'var': 0.04582030324011364, 'pred': 0.8667514489542039}, 'AMD': {'var': 0.06396295388271524, 'pred': 0.8731673031362652}, 'AMZN': {'var': 0.047144869600147514, 'pred': 1.0272536056748238}, 'ASML': {'var': 0.03024276360996406, 'pred': 0.9468456966870966}, 'AVGO': {'var': 0.10143451306079938, 'pred': 0.8226091316530231}, 'BA': {'var': 0.136223172493787, 'pred': 1.0263170431226143}, 'BAB': {'var': 0.147120979341509, 'pred': 1.0377711137601076}, 'BAC': {'var': 0.10849383588329974, 'pred': 1.0116661605523691}, 'BLK': {'var': 0.09842314818366008, 'pred': 0.9428125615729552}, 'BRK-B': {'var': 0.04537350273140791, 'pred': 0.9339295543900179}, 'COST': {'var': 0.14491826208858666, 'pred': 0.9017752409573567}, 'CRM': {'var': 0.0855291056393815, 'pred': 0.9635325265231627}, 'CVS': {'var': 0.1242061437276954, 'pred': 0.9557517665522905}, 'CVX': {'var': 0.2212465131782334, 'pred': 0.9558098049252989}, 'F': {'var': 0.3286875540496443, 'pred': 0.9487015314823104}, 'GE': {'var': 0.06219353371786631, 'pred': 1.0352295310543929}, 'GM': {'var': 0.3747089219872247, 'pred': 0.9702953286843189}, 'GOOG': {'var': 0.04973749606023458, 'pred': 0.9362754646524856}, 'GOOGL': {'var': 0.05465248400684108, 'pred': 0.9402452220975313}, 'GS': {'var': 0.11950171016876332, 'pred': 0.9691276205969662}, 'HD': {'var': 0.047355451391459524, 'pred': 0.9562024429271138}, 'JNJ': {'var': 0.08350222211712124, 'pred': 0.9800728004429353}, 'JPM': {'var': 0.06113178687519394, 'pred': 0.9473398181013246}, 'KO': {'var': 0.1531911315692758, 'pred': 0.9675126773109584}, 'LIN': {'var': 0.058418030792117034, 'pred': 0.8468260747578141}, 'LLY': {'var': 0.055399419619193806, 'pred': 0.8492994225416649}, 'LMT': {'var': 0.0733420065540651, 'pred': 0.9572767318187678}, 'MA': {'var': 0.035898973291477884, 'pred': 0.9433918118179169}, 'MCD': {'var': 0.03136318960565735, 'pred': 0.9107915692375944}, 'META': {'var': 0.05998327860315013, 'pred': 0.92727286808009}, 'MRK': {'var': 0.04911259128288789, 'pred': 0.95062874608133}, 'MS': {'var': 0.1437741598320744, 'pred': 0.9004277651520349}, 'MSFT': {'var': 0.062228270163971255, 'pred': 0.9406354851046468}, 'NKE': {'var': 0.07501066228988665, 'pred': 1.0015854853632244}, 'NOC': {'var': 0.05068749291584192, 'pred': 0.9239000859336348}, 'NVDA': {'var': 0.040437723029687976, 'pred': 0.8143821187401727}, 'ORCL': {'var': 0.06685327742624478, 'pred': 0.9083406333259688}, 'PEP': {'var': 0.39266736547208647, 'pred': 0.8419415183637952}, 'PFE': {'var': 0.23790519929236986, 'pred': 0.9797230829209289}, 'PG': {'var': 0.09025458793462762, 'pred': 0.9166145206680495}, 'QCOM': {'var': 0.10909699340118095, 'pred': 0.976119365444025}, 'RTX': {'var': 0.24681832039813426, 'pred': 0.9637991082089501}, 'T': {'var': 0.1380987686083906, 'pred': 1.0558014144048176}, 'TM': {'var': 0.1551282959312878, 'pred': 0.9770714458854374}, 'TMO': {'var': 0.20538639876652848, 'pred': 0.8905260912263832}, 'TSLA': {'var': 0.10935038655615327, 'pred': 0.969874965184004}, 'UNH': {'var': 0.04409845164680684, 'pred': 0.9316436464352337}, 'V': {'var': 0.022639878164310092, 'pred': 0.9775584412845169}, 'WMT': {'var': 0.041376703075895256, 'pred': 0.9538726559487121}, 'XOM': {'var': 0.10968783536968245, 'pred': 0.9977678075609762}}\n"
     ]
    },
    {
     "name": "stderr",
     "output_type": "stream",
     "text": [
      "\n"
     ]
    }
   ],
   "source": [
    "# Inputs\n",
    "timestep = \"m\"\n",
    "start_date = '2023-12-29'\n",
    "\n",
    "# Function\n",
    "preds = predict(timestep, start_date)\n",
    "print(preds)"
   ]
  },
  {
   "cell_type": "code",
   "execution_count": 20,
   "metadata": {},
   "outputs": [
    {
     "name": "stderr",
     "output_type": "stream",
     "text": [
      "[*********************100%%**********************]  1 of 1 completed\n",
      "[*********************100%%**********************]  1 of 1 completed\n",
      "[*********************100%%**********************]  1 of 1 completed\n",
      "[*********************100%%**********************]  1 of 1 completed\n",
      "[*********************100%%**********************]  1 of 1 completed\n",
      "[*********************100%%**********************]  1 of 1 completed\n",
      "[*********************100%%**********************]  1 of 1 completed\n",
      "[*********************100%%**********************]  1 of 1 completed\n",
      "[*********************100%%**********************]  1 of 1 completed\n",
      "[*********************100%%**********************]  1 of 1 completed\n",
      "[*********************100%%**********************]  1 of 1 completed\n",
      "[*********************100%%**********************]  1 of 1 completed\n",
      "[*********************100%%**********************]  1 of 1 completed\n",
      "[*********************100%%**********************]  1 of 1 completed\n",
      "[*********************100%%**********************]  1 of 1 completed\n",
      "[*********************100%%**********************]  1 of 1 completed\n",
      "[*********************100%%**********************]  1 of 1 completed\n",
      "[*********************100%%**********************]  1 of 1 completed\n",
      "[*********************100%%**********************]  1 of 1 completed\n",
      "[*********************100%%**********************]  1 of 1 completed\n",
      "[*********************100%%**********************]  1 of 1 completed\n",
      "[*********************100%%**********************]  1 of 1 completed\n",
      "[*********************100%%**********************]  1 of 1 completed\n",
      "[*********************100%%**********************]  1 of 1 completed\n",
      "[*********************100%%**********************]  1 of 1 completed\n",
      "[*********************100%%**********************]  1 of 1 completed\n",
      "[*********************100%%**********************]  1 of 1 completed\n",
      "[*********************100%%**********************]  1 of 1 completed\n",
      "[*********************100%%**********************]  1 of 1 completed\n",
      "[*********************100%%**********************]  1 of 1 completed\n",
      "[*********************100%%**********************]  1 of 1 completed\n",
      "[*********************100%%**********************]  1 of 1 completed\n",
      "[*********************100%%**********************]  1 of 1 completed\n",
      "[*********************100%%**********************]  1 of 1 completed\n",
      "[*********************100%%**********************]  1 of 1 completed\n",
      "[*********************100%%**********************]  1 of 1 completed\n",
      "[*********************100%%**********************]  1 of 1 completed\n",
      "[*********************100%%**********************]  1 of 1 completed\n",
      "[*********************100%%**********************]  1 of 1 completed\n",
      "[*********************100%%**********************]  1 of 1 completed\n",
      "[*********************100%%**********************]  1 of 1 completed\n",
      "[*********************100%%**********************]  1 of 1 completed\n",
      "[*********************100%%**********************]  1 of 1 completed\n",
      "[*********************100%%**********************]  1 of 1 completed\n",
      "[*********************100%%**********************]  1 of 1 completed\n",
      "[*********************100%%**********************]  1 of 1 completed\n",
      "[*********************100%%**********************]  1 of 1 completed\n",
      "[*********************100%%**********************]  1 of 1 completed\n",
      "[*********************100%%**********************]  1 of 1 completed\n",
      "[*********************100%%**********************]  1 of 1 completed\n",
      "[*********************100%%**********************]  1 of 1 completed\n",
      "[*********************100%%**********************]  1 of 1 completed\n",
      "[*********************100%%**********************]  1 of 1 completed\n",
      "[*********************100%%**********************]  1 of 1 completed\n",
      "[*********************100%%**********************]  1 of 1 completed\n",
      "[*********************100%%**********************]  1 of 1 completed\n",
      "[*********************100%%**********************]  1 of 1 completed\n",
      "[*********************100%%**********************]  1 of 1 completed\n",
      "[*********************100%%**********************]  1 of 1 completed\n",
      "Predicting:   2%|█▊                                                                                                         | 1/59 [00:00<00:53,  1.09it/s]"
     ]
    },
    {
     "name": "stdout",
     "output_type": "stream",
     "text": [
      "Failed to predict ACN\n"
     ]
    },
    {
     "name": "stderr",
     "output_type": "stream",
     "text": [
      "Predicting:  15%|████████████████▎                                                                                          | 9/59 [00:02<00:08,  5.78it/s]"
     ]
    },
    {
     "name": "stdout",
     "output_type": "stream",
     "text": [
      "Failed to predict AVGO\n",
      "Failed to predict BAB\n"
     ]
    },
    {
     "name": "stderr",
     "output_type": "stream",
     "text": [
      "Predicting:  24%|█████████████████████████▏                                                                                | 14/59 [00:03<00:08,  5.37it/s]"
     ]
    },
    {
     "name": "stdout",
     "output_type": "stream",
     "text": [
      "Failed to predict CRM\n"
     ]
    },
    {
     "name": "stderr",
     "output_type": "stream",
     "text": [
      "Predicting:  32%|██████████████████████████████████▏                                                                       | 19/59 [00:03<00:07,  5.24it/s]"
     ]
    },
    {
     "name": "stdout",
     "output_type": "stream",
     "text": [
      "Failed to predict GM\n",
      "Failed to predict GOOG\n",
      "Failed to predict GOOGL\n"
     ]
    },
    {
     "name": "stderr",
     "output_type": "stream",
     "text": [
      "Predicting:  51%|█████████████████████████████████████████████████████▉                                                    | 30/59 [00:05<00:05,  4.98it/s]"
     ]
    },
    {
     "name": "stdout",
     "output_type": "stream",
     "text": [
      "Failed to predict LRLCY\n",
      "Failed to predict LVMUY\n",
      "Failed to predict MA\n"
     ]
    },
    {
     "name": "stderr",
     "output_type": "stream",
     "text": [
      "Predicting:  58%|█████████████████████████████████████████████████████████████                                             | 34/59 [00:05<00:02,  8.88it/s]"
     ]
    },
    {
     "name": "stdout",
     "output_type": "stream",
     "text": [
      "Failed to predict META\n"
     ]
    },
    {
     "name": "stderr",
     "output_type": "stream",
     "text": [
      "Predicting:  64%|████████████████████████████████████████████████████████████████████▎                                     | 38/59 [00:06<00:03,  6.77it/s]"
     ]
    },
    {
     "name": "stdout",
     "output_type": "stream",
     "text": [
      "Failed to predict NFLX\n"
     ]
    },
    {
     "name": "stderr",
     "output_type": "stream",
     "text": [
      "Predicting:  83%|████████████████████████████████████████████████████████████████████████████████████████                  | 49/59 [00:08<00:02,  4.87it/s]"
     ]
    },
    {
     "name": "stdout",
     "output_type": "stream",
     "text": [
      "Failed to predict SBGSY\n"
     ]
    },
    {
     "name": "stderr",
     "output_type": "stream",
     "text": [
      "Predicting:  90%|███████████████████████████████████████████████████████████████████████████████████████████████▏          | 53/59 [00:09<00:01,  5.41it/s]"
     ]
    },
    {
     "name": "stdout",
     "output_type": "stream",
     "text": [
      "Failed to predict TSLA\n"
     ]
    },
    {
     "name": "stderr",
     "output_type": "stream",
     "text": [
      "Predicting:  93%|██████████████████████████████████████████████████████████████████████████████████████████████████▊       | 55/59 [00:09<00:00,  6.59it/s]"
     ]
    },
    {
     "name": "stdout",
     "output_type": "stream",
     "text": [
      "Failed to predict V\n"
     ]
    },
    {
     "name": "stderr",
     "output_type": "stream",
     "text": [
      "Predicting: 100%|██████████████████████████████████████████████████████████████████████████████████████████████████████████| 59/59 [00:10<00:00,  5.78it/s]"
     ]
    },
    {
     "name": "stdout",
     "output_type": "stream",
     "text": [
      "{'AAPL': {'var': 0.7231786324593582, 'pred': 0.5238913179615309}, 'ADBE': {'var': 0.3096861918947022, 'pred': 0.8434118008866937}, 'ADI': {'var': 0.13406955563512288, 'pred': 0.839696577888173}, 'AMD': {'var': 1.1147789335564564, 'pred': 0.35134244215579485}, 'AMZN': {'var': 0.25043960405807747, 'pred': 0.9380493131932702}, 'ASML': {'var': 0.7335281308348242, 'pred': 0.5430935770159888}, 'BA': {'var': 1.4100297516898106, 'pred': 0.6372686875678951}, 'BAC': {'var': 0.22872340056653084, 'pred': 0.8796171548962737}, 'BLK': {'var': 0.3346226226146284, 'pred': 0.7957661938420028}, 'BRK-B': {'var': 0.16866494234847396, 'pred': 0.8784445451746732}, 'COST': {'var': 0.16209408887171825, 'pred': 0.7189997227141498}, 'CVS': {'var': 0.2262202304248747, 'pred': 0.8395205405049446}, 'CVX': {'var': 0.7213339597771042, 'pred': 0.8020848511285763}, 'F': {'var': 0.6148050279405556, 'pred': 0.9366230764246573}, 'GE': {'var': 0.23704569973051548, 'pred': 1.0368813824881213}, 'GS': {'var': 1.098536119061081, 'pred': 0.610121736180974}, 'HD': {'var': 0.12280942654041083, 'pred': 0.9209362705575417}, 'JNJ': {'var': 0.0651282399745756, 'pred': 0.957501491545557}, 'JPM': {'var': 0.2419977243989706, 'pred': 0.8538612774129465}, 'KO': {'var': 0.12603927040962795, 'pred': 0.9967229364307731}, 'LIN': {'var': 0.24949703056757389, 'pred': 0.7399538928249711}, 'LLY': {'var': 1.1343353800475597, 'pred': 0.3658388373612508}, 'LMT': {'var': 0.09243551619645012, 'pred': 0.964721865142611}, 'MCD': {'var': 0.046876146139479, 'pred': 0.9594008628094347}, 'MRK': {'var': 0.2752650370821357, 'pred': 0.9029810259581906}, 'MS': {'var': 0.8296942560394344, 'pred': 0.6870075017795666}, 'MSFT': {'var': 0.24778759303061584, 'pred': 0.755645679972274}, 'NKE': {'var': 0.2918154827049492, 'pred': 0.9554346864866721}, 'NOC': {'var': 0.1513132623053695, 'pred': 0.9589523029484733}, 'NSRGY': {'var': 0.15689841505924337, 'pred': 1.0214833236159044}, 'NVDA': {'var': 1.0862042068099407, 'pred': 0.2795785303755939}, 'ORCL': {'var': 0.45125945566810277, 'pred': 0.7053876780720755}, 'PEP': {'var': 0.13119430920893424, 'pred': 1.025208273718099}, 'PFE': {'var': 0.545058491296674, 'pred': 1.1203511744334387}, 'PG': {'var': 0.25360241904854774, 'pred': 0.906660746336266}, 'QCOM': {'var': 1.032690416629377, 'pred': 0.5880846870352168}, 'RTX': {'var': 0.2490150848109471, 'pred': 0.9797729552182718}, 'T': {'var': 0.7962886205825367, 'pred': 1.3171792707252765}, 'TM': {'var': 0.5316408468704474, 'pred': 0.7768944275022212}, 'TMO': {'var': 0.14075175246321842, 'pred': 0.7662247292587183}, 'UNH': {'var': 0.2112756262190248, 'pred': 0.8006916548507146}, 'WFC': {'var': 1.262286748541029, 'pred': 0.7492544435613505}, 'WMT': {'var': 0.08003769984076682, 'pred': 0.9881597910621762}, 'XOM': {'var': 0.9819080763937611, 'pred': 0.8131776618100335}}\n"
     ]
    },
    {
     "name": "stderr",
     "output_type": "stream",
     "text": [
      "\n"
     ]
    }
   ],
   "source": [
    "# Inputs\n",
    "timestep = \"y\"\n",
    "start_date = '2023-12-25'\n",
    "\n",
    "# Function\n",
    "preds = predict(timestep, start_date)\n",
    "print(preds)"
   ]
  },
  {
   "cell_type": "code",
   "execution_count": null,
   "metadata": {},
   "outputs": [],
   "source": []
  }
 ],
 "metadata": {
  "accelerator": "GPU",
  "colab": {
   "gpuType": "T4",
   "provenance": []
  },
  "kernelspec": {
   "display_name": "Python 3 (ipykernel)",
   "language": "python",
   "name": "python3"
  },
  "language_info": {
   "codemirror_mode": {
    "name": "ipython",
    "version": 3
   },
   "file_extension": ".py",
   "mimetype": "text/x-python",
   "name": "python",
   "nbconvert_exporter": "python",
   "pygments_lexer": "ipython3",
   "version": "3.9.19"
  }
 },
 "nbformat": 4,
 "nbformat_minor": 4
}
